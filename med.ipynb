{
 "cells": [
  {
   "cell_type": "code",
   "execution_count": 1,
   "metadata": {},
   "outputs": [],
   "source": [
    "import os\n",
    "import numpy as np\n",
    "import matplotlib.pyplot as plt\n",
    "import pandas as pd\n",
    "import tensorflow as tf\n",
    "from sklearn.model_selection import train_test_split, StratifiedShuffleSplit\n",
    "\n"
   ]
  },
  {
   "cell_type": "code",
   "execution_count": null,
   "metadata": {},
   "outputs": [],
   "source": [
    "base_path = r\"C:\\Users\\eroew\\OneDrive\\Baby Love\\ml_tutorial\\medicalimages\\data\"\n",
    "\n",
    "folder_dir = os.listdir(base_path)\n",
    "folder_dir\n",
    "sel_each_fld = os.path.join(base_path, folder_dir[0])\n",
    "sel_each_fld\n",
    "group_img_flds = os.listdir(sel_each_fld)\n",
    "group_img_flds \n",
    "single_image_folder = os.path.join(sel_each_fld, group_img_flds[0])\n",
    "single_image_folder\n",
    "images_in_fld = os.listdir(single_image_folder)\n",
    "img_path = os.path.join(single_image_folder, images_in_fld[0])\n",
    "img_path\n",
    "\n",
    "## display an image\n",
    "import PIL.Image as IMG \n",
    "img = np.asarray(IMG.open(img_path))\n",
    "img.dtype\n",
    "img.max()\n",
    "img.shape\n",
    "plt.imshow(img) \n",
    "\n",
    "#the whole image with the 3 channels combinned\n",
    "## there are 3 channels, let us display the 3 channels\n",
    "plt.imshow(img[:,:, 0], cmap = \"jet\")  #first channel\n",
    "plt.figure()\n",
    "plt.imshow(img[:,:,1], cmap = \"jet\") #second channel\n",
    "plt.figure()\n",
    "plt.imshow(img[:,:,2], cmap = \"jet\") #third channel\n",
    "\n",
    "\n"
   ]
  },
  {
   "cell_type": "code",
   "execution_count": null,
   "metadata": {},
   "outputs": [],
   "source": [
    "### write a code that will access all the dataset(images)\n",
    "## your code will run through all the folders containinf the images\n",
    "## to do this, all the file path to the images has to be accessible\n",
    "X = []\n",
    "Y = []\n",
    "folder_dir\n",
    "base_path\n",
    "for i in range(len(folder_dir)):\n",
    "    path_1 = os.path.join(base_path, folder_dir[i])\n",
    "    path_1_dir = os.listdir(path_1)\n",
    "    # print(path_1_dir)\n",
    "    for j in range(len(path_1_dir)):\n",
    "        path_2 = os.path.join(path_1, path_1_dir[j])\n",
    "        path_2_dir = os.listdir(path_2)\n",
    "        # print(path_2_dir)\n",
    "        for k in range(len(path_2_dir)):\n",
    "            img_path = os.path.join(path_2, path_2_dir[k])\n",
    "            # print(img_path)\n",
    "            img = np.asarray(IMG.open(img_path))\n",
    "            Y.append(int(path_1_dir[j]))\n",
    "            X.append(img)\n",
    "        \n",
    "        \n",
    "X = np.asarray(X)\n",
    "Y = np.asarray(Y)\n",
    "\n",
    "print(Y.shape)\n",
    "print(X.shape)\n",
    "\n",
    "\n",
    "## Normalize the dataset (0-1)    divide them by 255. we do not normalize Y, just X. X is our target\n",
    "X = X/255.0\n",
    "print(X.max())\n"
   ]
  }
 ],
 "metadata": {
  "kernelspec": {
   "display_name": "ml_env",
   "language": "python",
   "name": "python3"
  },
  "language_info": {
   "codemirror_mode": {
    "name": "ipython",
    "version": 3
   },
   "file_extension": ".py",
   "mimetype": "text/x-python",
   "name": "python",
   "nbconvert_exporter": "python",
   "pygments_lexer": "ipython3",
   "version": "3.10.15"
  }
 },
 "nbformat": 4,
 "nbformat_minor": 2
}
